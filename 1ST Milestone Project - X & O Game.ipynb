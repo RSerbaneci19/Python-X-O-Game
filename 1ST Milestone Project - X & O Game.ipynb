{
 "cells": [
  {
   "cell_type": "raw",
   "metadata": {},
   "source": [
    "THE X & O GAME - 1ST MILESTONE"
   ]
  },
  {
   "cell_type": "code",
   "execution_count": 16,
   "metadata": {},
   "outputs": [],
   "source": [
    "from IPython.display import clear_output\n",
    "\n",
    "def display_board(board):\n",
    "    clear_output()\n",
    "    print('-------------')\n",
    "    print('| ' + board[7] + ' | ' + board[8] + ' | ' + board[9] + ' | ')\n",
    "    print('-------------')\n",
    "    print('| ' + board[4] + ' | ' + board[5] + ' | ' + board[6] + ' | ')\n",
    "    print('-------------')\n",
    "    print('| ' + board[1] + ' | ' + board[2] + ' | ' + board[3] + ' | ')\n",
    "    print('-------------')"
   ]
  },
  {
   "cell_type": "code",
   "execution_count": 17,
   "metadata": {},
   "outputs": [],
   "source": [
    "def player_input():\n",
    "    player_marker_1 = ''\n",
    "    player_marker_2 = ''\n",
    "    while player_marker_1 != 'X' and player_marker_1 != 'O':\n",
    "        player_marker_1 = input('Player 1, please choose X or O : ').upper()\n",
    "    \n",
    "    if player_marker_1 == 'X':\n",
    "        player_marker_2 = 'O'\n",
    "    else:\n",
    "        player_marker_2 = 'X'\n",
    "        \n",
    "    print('Player 1 has choosen {p1}, therefore Player 2 is going to be playing with {p2}. Good Luck !'.format(p1 = player_marker_1, p2 = player_marker_2))\n",
    "    return (player_marker_1, player_marker_2)"
   ]
  },
  {
   "cell_type": "code",
   "execution_count": 18,
   "metadata": {},
   "outputs": [],
   "source": [
    "def place_marker(board, marker, position):\n",
    "    board[position] = marker"
   ]
  },
  {
   "cell_type": "code",
   "execution_count": 19,
   "metadata": {},
   "outputs": [],
   "source": [
    "def win_check(board, mark):\n",
    "    return ((board[7] == board[8] == board[9] == mark) or #Horizontal Check\n",
    "    (board[4] == board[5] == board[6] == mark) or #Horizontal Check\n",
    "    (board[1] == board[2] == board[3] == mark) or #Horizontal Check\n",
    "    (board[7] == board[4] == board[1] == mark) or #Vertical Check\n",
    "    (board[8] == board[5] == board[2] == mark) or #Vertical Check\n",
    "    (board[9] == board[6] == board[3] == mark) or #Vertical Check\n",
    "    (board[7] == board[5] == board[3] == mark) or #Diagonal Check\n",
    "    (board[9] == board[5] == board[1] == mark)) #Diagonal Check"
   ]
  },
  {
   "cell_type": "code",
   "execution_count": 20,
   "metadata": {},
   "outputs": [],
   "source": [
    "import random\n",
    "\n",
    "def choose_first():\n",
    "    if random.randint(0, 1) == 0:\n",
    "        return 'Player 2'\n",
    "    else:\n",
    "        return 'Player 1'"
   ]
  },
  {
   "cell_type": "code",
   "execution_count": 21,
   "metadata": {},
   "outputs": [],
   "source": [
    "def space_check(board, position):\n",
    "    return board[position] == ' '"
   ]
  },
  {
   "cell_type": "code",
   "execution_count": 22,
   "metadata": {},
   "outputs": [],
   "source": [
    "def full_board_check(board):\n",
    "    for i in range(1,10):\n",
    "        if space_check(board, i):\n",
    "            return False\n",
    "    return True"
   ]
  },
  {
   "cell_type": "code",
   "execution_count": 23,
   "metadata": {},
   "outputs": [],
   "source": [
    "def player_choice(board):\n",
    "    position = 0\n",
    "    \n",
    "    while position not in range(1,10) or not space_check(board, position):\n",
    "        position = int(input('Choose your next position: (1-9) '))\n",
    "        \n",
    "    return position"
   ]
  },
  {
   "cell_type": "code",
   "execution_count": 24,
   "metadata": {},
   "outputs": [],
   "source": [
    "def replay():\n",
    "    return input('Do you want to play again? Enter Yes or No: ').lower().startswith('y')"
   ]
  },
  {
   "cell_type": "code",
   "execution_count": null,
   "metadata": {},
   "outputs": [
    {
     "name": "stdout",
     "output_type": "stream",
     "text": [
      "-------------\n",
      "| O |   |   | \n",
      "-------------\n",
      "|   | X |   | \n",
      "-------------\n",
      "| O |   |   | \n",
      "-------------\n"
     ]
    }
   ],
   "source": [
    "# WHILE LOOP TO KEEP RUNNING THE GAME\n",
    "print('Welcome to X and O')\n",
    "\n",
    "while True:\n",
    "    \n",
    "    # PLAY THE GAME\n",
    "    ## SET EVERYTHING UP ( BOARD, WHO IS FIRST, CHOOSE MARKERS)\n",
    "    the_board = [' '] * 10\n",
    "    player_marker_1, player_marker_2 = player_input()\n",
    "    \n",
    "    who_is_first = choose_first()\n",
    "    print(who_is_first + ' will start first')\n",
    "    \n",
    "    ready_for_game = input('Are you ready to play ? Please reply with Yes or No: ')\n",
    "    if ready_for_game.lower().startswith('y'):\n",
    "        game_on = True\n",
    "    else:\n",
    "        game_on = False\n",
    "    \n",
    "    ## GAME PLAY\n",
    "    while game_on:\n",
    "        \n",
    "        if who_is_first == 'Player 1':\n",
    "            display_board(the_board)\n",
    "            position = player_choice(the_board)\n",
    "            place_marker(the_board, player_marker_1, position)\n",
    "            \n",
    "            if win_check(the_board, player_marker_1):\n",
    "                display_board(the_board)\n",
    "                print('Player 1 has WON !!!')\n",
    "                game_on = False\n",
    "            else:\n",
    "                if full_board_check(the_board):\n",
    "                    display_board(the_board)\n",
    "                    print('The game is a TIE')\n",
    "                    game_on = False\n",
    "                else:\n",
    "                    who_is_first = 'Player 2'\n",
    "        else:\n",
    "            display_board(the_board)\n",
    "            position = player_choice(the_board)\n",
    "            place_marker(the_board, player_marker_2, position)\n",
    "            \n",
    "            if win_check(the_board, player_marker_2):\n",
    "                display_board(the_board)\n",
    "                print('Player 2 has WON !!!')\n",
    "                game_on = False\n",
    "            else:\n",
    "                if full_board_check(the_board):\n",
    "                    display_board(the_board)\n",
    "                    print('The game is a TIE')\n",
    "                    game_on = False\n",
    "                else:\n",
    "                    who_is_first = 'Player 1'\n",
    "\n",
    "    if not replay():\n",
    "        break"
   ]
  },
  {
   "cell_type": "markdown",
   "metadata": {},
   "source": [
    "## Good Job!"
   ]
  }
 ],
 "metadata": {
  "kernelspec": {
   "display_name": "Python 3",
   "language": "python",
   "name": "python3"
  },
  "language_info": {
   "codemirror_mode": {
    "name": "ipython",
    "version": 3
   },
   "file_extension": ".py",
   "mimetype": "text/x-python",
   "name": "python",
   "nbconvert_exporter": "python",
   "pygments_lexer": "ipython3",
   "version": "3.6.5"
  }
 },
 "nbformat": 4,
 "nbformat_minor": 2
}
